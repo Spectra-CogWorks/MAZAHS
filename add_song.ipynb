{
 "cells": [
  {
   "cell_type": "code",
   "execution_count": 1,
   "metadata": {},
   "outputs": [],
   "source": [
    "from pathlib import Path\n",
    "def add_song(song_name, artist, year, path = Path(\"file1.mp3\")):\n",
    "    \"\"\"Adds new song to database and stores metadata in metadata list.\n",
    "\n",
    "    Parameters\n",
    "    ----------\n",
    "    song_name: string\n",
    "        The name of the song\n",
    "    artist: string\n",
    "        The artist associated with the song\n",
    "    year: string\n",
    "        The year of the song's release\n",
    "    path: Path object\n",
    "        The pathway to the .mp3 file with the song\n",
    "\n",
    "    Returns\n",
    "    -------\n",
    "    None\"\"\"\n",
    "    \n",
    "    song_metadata.append((song_name,artist,year))\n",
    "    \n",
    "    #run mp3 to samples function\n",
    "    #run sample to spectogram function\n",
    "    #run peak finding function\n",
    "    #run fingerprint creation function with output ((fi, fj, delta_t, abs_time))\n",
    "    #make song id\n",
    "    #add song to dictionary with key: (fi, fj, delta_t) and value: List of tuple with song_id and abs_time\n",
    "    \n",
    "    \n",
    "    return None\n",
    "    \n",
    "    "
   ]
  },
  {
   "cell_type": "code",
   "execution_count": null,
   "metadata": {},
   "outputs": [],
   "source": []
  }
 ],
 "metadata": {
  "kernelspec": {
   "display_name": "Python 3",
   "language": "python",
   "name": "python3"
  },
  "language_info": {
   "codemirror_mode": {
    "name": "ipython",
    "version": 3
   },
   "file_extension": ".py",
   "mimetype": "text/x-python",
   "name": "python",
   "nbconvert_exporter": "python",
   "pygments_lexer": "ipython3",
   "version": "3.8.3"
  }
 },
 "nbformat": 4,
 "nbformat_minor": 4
}
